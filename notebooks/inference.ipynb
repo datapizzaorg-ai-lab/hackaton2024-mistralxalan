{
 "cells": [
  {
   "cell_type": "code",
   "execution_count": 9,
   "metadata": {},
   "outputs": [
    {
     "name": "stdout",
     "output_type": "stream",
     "text": [
      "row_idx:  0\n",
      "row_idx:  1\n"
     ]
    }
   ],
   "source": [
    "import pandas as pd\n",
    "from mistralai import Mistral\n",
    "from dotenv import load_dotenv\n",
    "import os\n",
    "load_dotenv()\n",
    "\n",
    "api_key = os.getenv(\"MISTRAL_API_KEY\")  # your API key\n",
    "questions_file = '../data/dataset/questions.csv'  # path to the questions file\n",
    "\n",
    "output_path = '../data/output/'  # path to the output file\n",
    "\n",
    "df = pd.read_csv(questions_file)\n",
    "\n",
    "question_prompt = lambda body, possible_answer_a, possible_answer_b, possible_answer_c, possible_answer_d, possible_answer_e: (\n",
    "    \"Answer the following question with the letters of the correct answer. Each question can have multiple answers that are right. \"\n",
    "    \"For each answwer think this way: 'is it true compared to the question provided?'\"\n",
    "    \"For each question first explain the medical condition and what are the implication, give context, then print the corrects answers.\"\n",
    "    \"Your answer must contain the letter of the answers, separated by commas and without any space. An ideal output is like: 'A,B', for instance.\"\n",
    "    \"You output the letters that you are asked to provide, e.g. 'A,B,C' or 'C'. Your answer is always sorted alphabetically. You must not put letters\"\n",
    "    \"in a different order\"\n",
    "    f\"{body}\\n\"\n",
    "    f\"A: {possible_answer_a}\\n\"\n",
    "    f\"B: {possible_answer_b}\\n\"\n",
    "    f\"C: {possible_answer_c}\\n\"\n",
    "    f\"D: {possible_answer_d}\\n\"\n",
    "    f\"E: {possible_answer_e}\\n\"\n",
    ")\n",
    "\n",
    "answers = []\n",
    "client = Mistral(api_key=api_key)\n",
    "\n",
    "for row_idx, row in df.head(2).iterrows():\n",
    "   print('row_idx: ',row_idx)\n",
    "   prompt = question_prompt(\n",
    "      row[\"question\"],\n",
    "      row[\"answer_A\"],\n",
    "      row[\"answer_B\"],\n",
    "      row[\"answer_C\"],\n",
    "      row[\"answer_D\"],\n",
    "      row[\"answer_E\"]\n",
    "    )\n",
    "\n",
    "   chat_response = client.chat.complete(\n",
    "      model = \"mistral-large-latest\",\n",
    "      messages = [\n",
    "          {\n",
    "              \"role\": \"user\",\n",
    "              \"content\": prompt\n",
    "          },\n",
    "      ],\n",
    "      temperature=0.\n",
    "   )\n",
    "   answers.append(\n",
    "        chat_response.choices[0].message.content\n",
    "    )\n",
    "\n",
    "# output format is a 2-columns dataframe with exactly 103 rows\n",
    "output_df = pd.DataFrame(answers, columns=[\"Answer\"])\n",
    "output_df.index.name = \"id\"\n",
    "\n",
    "os.makedirs(output_path, exist_ok=True)\n",
    "\n",
    "output_df.to_csv(f\"{output_path}output_verbose.csv\")\n"
   ]
  },
  {
   "cell_type": "code",
   "execution_count": 7,
   "metadata": {},
   "outputs": [],
   "source": [
    "df_output = pd.read_csv(f\"{output_path}output_verbose.csv\")\n",
    "\n",
    "df_output_verbose = pd.read_csv(f\"{output_path}output_verbose.csv\")"
   ]
  },
  {
   "cell_type": "code",
   "execution_count": 8,
   "metadata": {},
   "outputs": [
    {
     "data": {
      "text/html": [
       "<div>\n",
       "<style scoped>\n",
       "    .dataframe tbody tr th:only-of-type {\n",
       "        vertical-align: middle;\n",
       "    }\n",
       "\n",
       "    .dataframe tbody tr th {\n",
       "        vertical-align: top;\n",
       "    }\n",
       "\n",
       "    .dataframe thead th {\n",
       "        text-align: right;\n",
       "    }\n",
       "</style>\n",
       "<table border=\"1\" class=\"dataframe\">\n",
       "  <thead>\n",
       "    <tr style=\"text-align: right;\">\n",
       "      <th></th>\n",
       "      <th>id</th>\n",
       "      <th>Answer</th>\n",
       "    </tr>\n",
       "  </thead>\n",
       "  <tbody>\n",
       "    <tr>\n",
       "      <th>0</th>\n",
       "      <td>0</td>\n",
       "      <td>### Explanation:\\n\\n**Exanthème roséoliforme f...</td>\n",
       "    </tr>\n",
       "    <tr>\n",
       "      <th>1</th>\n",
       "      <td>1</td>\n",
       "      <td>### Explication des propositions\\n\\n**A: L’aus...</td>\n",
       "    </tr>\n",
       "  </tbody>\n",
       "</table>\n",
       "</div>"
      ],
      "text/plain": [
       "   id                                             Answer\n",
       "0   0  ### Explanation:\\n\\n**Exanthème roséoliforme f...\n",
       "1   1  ### Explication des propositions\\n\\n**A: L’aus..."
      ]
     },
     "execution_count": 8,
     "metadata": {},
     "output_type": "execute_result"
    }
   ],
   "source": [
    "df_output_verbose.head()"
   ]
  },
  {
   "cell_type": "code",
   "execution_count": null,
   "metadata": {},
   "outputs": [],
   "source": []
  }
 ],
 "metadata": {
  "kernelspec": {
   "display_name": "mistral-hackathon",
   "language": "python",
   "name": "python3"
  },
  "language_info": {
   "codemirror_mode": {
    "name": "ipython",
    "version": 3
   },
   "file_extension": ".py",
   "mimetype": "text/x-python",
   "name": "python",
   "nbconvert_exporter": "python",
   "pygments_lexer": "ipython3",
   "version": "3.10.15"
  }
 },
 "nbformat": 4,
 "nbformat_minor": 2
}
