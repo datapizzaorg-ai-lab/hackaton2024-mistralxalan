{
 "cells": [
  {
   "cell_type": "code",
   "execution_count": 16,
   "metadata": {},
   "outputs": [],
   "source": [
    "from mistralai import Mistral\n",
    "import os\n",
    "import pandas as pd\n",
    "import json\n",
    "\n",
    "api_key = \"JLG3v61hGXuzrpfWB7THHFVAQHDEvdcs\"\n",
    "\n",
    "client = Mistral(api_key=api_key)\n",
    "\n",
    "ultrachat_chunk_train = client.files.upload(file={\n",
    "    \"file_name\": \"on_video_train.jsonl\",\n",
    "    \"content\": open(\"on_video_train.jsonl\", \"rb\"),\n",
    "})\n",
    "ultrachat_chunk_eval = client.files.upload(file={\n",
    "    \"file_name\": \"on_video_eval.jsonl\",\n",
    "    \"content\": open(\"on_video_eval.jsonl\", \"rb\"),\n",
    "})"
   ]
  },
  {
   "cell_type": "code",
   "execution_count": 17,
   "metadata": {},
   "outputs": [
    {
     "name": "stdout",
     "output_type": "stream",
     "text": [
      "id='959134cd-9156-491c-9295-46548d57fd2e' object='file' bytes=8272 created_at=1728791677 filename='on_video_eval.jsonl' sample_type='instruct' source='upload' PURPOSE='fine-tune' num_lines=10 id='8ad65426-1c2a-435a-b3a9-0a71d8d68651' object='file' bytes=75007 created_at=1728791677 filename='on_video_train.jsonl' sample_type='instruct' source='upload' PURPOSE='fine-tune' num_lines=97\n"
     ]
    }
   ],
   "source": [
    "print(ultrachat_chunk_eval, ultrachat_chunk_train)"
   ]
  },
  {
   "cell_type": "code",
   "execution_count": 18,
   "metadata": {},
   "outputs": [],
   "source": [
    "# create a fine-tuning job\n",
    "created_jobs = client.fine_tuning.jobs.create(\n",
    "    model=\"mistral-large-latest\", \n",
    "    training_files=[{\"file_id\": ultrachat_chunk_train.id, \"weight\": 1}],\n",
    "    validation_files=[ultrachat_chunk_eval.id], \n",
    "    hyperparameters={\n",
    "        \"training_steps\": 5,\n",
    "        \"learning_rate\":0.0001\n",
    "    },\n",
    "    auto_start=False\n",
    ")"
   ]
  },
  {
   "cell_type": "code",
   "execution_count": 19,
   "metadata": {
    "scrolled": true
   },
   "outputs": [
    {
     "data": {
      "text/plain": [
       "JobOut(id='3d8a5d94-d73e-4de7-b3ce-a0546f9bba05', auto_start=False, hyperparameters=TrainingParameters(training_steps=5, learning_rate=0.0001, weight_decay=0.1, warmup_fraction=0.05, epochs=None, fim_ratio=None), model='mistral-large-latest', status='QUEUED', job_type='FT', created_at=1728791692, modified_at=1728791692, training_files=['8ad65426-1c2a-435a-b3a9-0a71d8d68651'], validation_files=['959134cd-9156-491c-9295-46548d57fd2e'], OBJECT='job', fine_tuned_model=None, suffix=None, integrations=[], trained_tokens=None, repositories=[], metadata=JobMetadataOut(expected_duration_seconds=None, cost=0.0, cost_currency=None, train_tokens_per_step=None, train_tokens=None, data_tokens=None, estimated_start_time=None))"
      ]
     },
     "execution_count": 19,
     "metadata": {},
     "output_type": "execute_result"
    }
   ],
   "source": [
    "# start a fine-tuning job\n",
    "client.fine_tuning.jobs.start(job_id = created_jobs.id)\n",
    "created_jobs"
   ]
  },
  {
   "cell_type": "code",
   "execution_count": 20,
   "metadata": {},
   "outputs": [
    {
     "data": {
      "text/plain": [
       "JobOut(id='3d8a5d94-d73e-4de7-b3ce-a0546f9bba05', auto_start=False, hyperparameters=TrainingParameters(training_steps=5, learning_rate=0.0001, weight_decay=0.1, warmup_fraction=0.05, epochs=None, fim_ratio=None), model='mistral-large-latest', status='QUEUED', job_type='FT', created_at=1728791692, modified_at=1728791692, training_files=['8ad65426-1c2a-435a-b3a9-0a71d8d68651'], validation_files=['959134cd-9156-491c-9295-46548d57fd2e'], OBJECT='job', fine_tuned_model=None, suffix=None, integrations=[], trained_tokens=None, repositories=[], metadata=JobMetadataOut(expected_duration_seconds=None, cost=0.0, cost_currency=None, train_tokens_per_step=None, train_tokens=None, data_tokens=None, estimated_start_time=None))"
      ]
     },
     "execution_count": 20,
     "metadata": {},
     "output_type": "execute_result"
    }
   ],
   "source": [
    "created_jobs"
   ]
  },
  {
   "cell_type": "code",
   "execution_count": 28,
   "metadata": {},
   "outputs": [
    {
     "name": "stdout",
     "output_type": "stream",
     "text": [
      "id='3d8a5d94-d73e-4de7-b3ce-a0546f9bba05' auto_start=False hyperparameters=TrainingParameters(training_steps=5, learning_rate=0.0001, weight_decay=0.1, warmup_fraction=0.05, epochs=69.90133859527492, fim_ratio=None) model='mistral-large-latest' status='SUCCESS' job_type='FT' created_at=1728791692 modified_at=1728792168 training_files=['8ad65426-1c2a-435a-b3a9-0a71d8d68651'] validation_files=['959134cd-9156-491c-9295-46548d57fd2e'] OBJECT='job' fine_tuned_model='ft:mistral-large-latest:64a2499b:20241013:3d8a5d94' suffix=None integrations=[] trained_tokens=1310720 repositories=[] metadata=JobMetadataOut(expected_duration_seconds=365, cost=11.54, cost_currency='EUR', train_tokens_per_step=262144, train_tokens=1310720, data_tokens=18751, estimated_start_time=None) events=[EventOut(name='status-updated', created_at=1728792168, data={'status': 'SUCCESS'}), EventOut(name='status-updated', created_at=1728791703, data={'status': 'RUNNING'}), EventOut(name='status-updated', created_at=1728791699, data={'status': 'QUEUED'}), EventOut(name='status-updated', created_at=1728791693, data={'status': 'VALIDATED'}), EventOut(name='status-updated', created_at=1728791693, data={'status': 'RUNNING'}), EventOut(name='status-updated', created_at=1728791692, data={'status': 'QUEUED'})] checkpoints=[]\n"
     ]
    }
   ],
   "source": [
    "# Retrieve a jobs\n",
    "retrieved_jobs = client.fine_tuning.jobs.get(job_id = created_jobs.id)\n",
    "print(retrieved_jobs)"
   ]
  },
  {
   "cell_type": "code",
   "execution_count": 29,
   "metadata": {},
   "outputs": [],
   "source": [
    "chat_response = client.chat.complete(\n",
    "    model=retrieved_jobs.fine_tuned_model,\n",
    "    messages = [{\"role\":'user', \"content\":'What is the best French cheese?'}]\n",
    ")"
   ]
  },
  {
   "cell_type": "code",
   "execution_count": 30,
   "metadata": {},
   "outputs": [
    {
     "data": {
      "text/plain": [
       "'ft:mistral-large-latest:64a2499b:20241013:3d8a5d94'"
      ]
     },
     "execution_count": 30,
     "metadata": {},
     "output_type": "execute_result"
    }
   ],
   "source": [
    "retrieved_jobs.fine_tuned_model"
   ]
  },
  {
   "cell_type": "code",
   "execution_count": 31,
   "metadata": {},
   "outputs": [
    {
     "data": {
      "text/plain": [
       "ChatCompletionResponse(id='650ac712ff354a7887978c65e8110c6e', object='chat.completion', model='ft:mistral-large-latest:64a2499b:20241013:3d8a5d94', usage=UsageInfo(prompt_tokens=10, completion_tokens=314, total_tokens=324), created=1728792308, choices=[ChatCompletionChoice(index=0, message=AssistantMessage(content='Choosing the \"best\" French cheese is subjective, as it depends on personal taste. France is renowned for its wide variety of cheeses, with over 400 different types. Here are a few highly regarded ones:\\n\\n1. **Brie de Meaux**: A soft, creamy cheese made from cow\\'s milk. It\\'s often considered one of the finest cheeses in the world.\\n\\n2. **Camembert de Normandie**: Another soft, creamy cheese made from cow\\'s milk. It has a stronger flavor than Brie.\\n\\n3. **Roquefort**: A sheep milk cheese from the south of France. It\\'s known for its tangy, salty flavor and distinctive veins of blue mold.\\n\\n4. **Comté**: A firm, nutty cheese made from cow\\'s milk in the Jura region. It\\'s often used in fondue and has a complex, rich flavor.\\n\\n5. **Reblochon**: A soft, washed-rind cheese made from cow\\'s milk. It has a nutty taste and is often used in the dish Tartiflette.\\n\\n6. **Époisses de Bourgogne**: A soft, pungent cheese made from cow\\'s milk. It has a strong, somewhat salty flavor.\\n\\nEach of these cheeses has its own unique characteristics, so the \"best\" one depends on your personal preferences.', tool_calls=None, prefix=False, role='assistant'), finish_reason='stop')])"
      ]
     },
     "execution_count": 31,
     "metadata": {},
     "output_type": "execute_result"
    }
   ],
   "source": [
    "chat_response"
   ]
  },
  {
   "cell_type": "code",
   "execution_count": null,
   "metadata": {},
   "outputs": [],
   "source": []
  }
 ],
 "metadata": {
  "kernelspec": {
   "display_name": "Python 3 (ipykernel)",
   "language": "python",
   "name": "python3"
  },
  "language_info": {
   "codemirror_mode": {
    "name": "ipython",
    "version": 3
   },
   "file_extension": ".py",
   "mimetype": "text/x-python",
   "name": "python",
   "nbconvert_exporter": "python",
   "pygments_lexer": "ipython3",
   "version": "3.12.4"
  }
 },
 "nbformat": 4,
 "nbformat_minor": 4
}
